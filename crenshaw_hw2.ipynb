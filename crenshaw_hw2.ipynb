{
 "cells": [
  {
   "cell_type": "code",
   "execution_count": 1,
   "id": "6e8c7b7e-8c78-4834-83f9-8d7a3a042fe2",
   "metadata": {
    "tags": []
   },
   "outputs": [],
   "source": [
    "#Run Packages\n",
    "import os\n",
    "import json\n",
    "import pprint\n",
    "import requests\n",
    "import requests.exceptions\n",
    "import pandas as pd\n",
    "from pandas import json_normalize\n",
    "import sys"
   ]
  },
  {
   "cell_type": "code",
   "execution_count": 10,
   "id": "d7a64a67-2a3b-4301-9bb2-8e0fa9ac5405",
   "metadata": {
    "tags": []
   },
   "outputs": [
    {
     "name": "stdin",
     "output_type": "stream",
     "text": [
      " amzn\n"
     ]
    }
   ],
   "source": [
    "#User Input for a Stock using input() command\n",
    "stock=input()"
   ]
  },
  {
   "cell_type": "code",
   "execution_count": 11,
   "id": "1f454edc-daa5-41be-8c05-960b694d756f",
   "metadata": {},
   "outputs": [],
   "source": [
    "#The function below takes two inputs (urls for two different API calls) and returns all the requested information about a given stock. If the url/API call malfunctions or the user inputs a stock that does not exist, the function also handles errors.\n",
    "def get_api_stock_data(url, url2):\n",
    "    try:\n",
    "        response = requests.get(url, headers=headers, params=querystring)\n",
    "        r = requests.get(url2, headers=headers, params={'modules': 'financialData'})\n",
    "        response.raise_for_status()\n",
    "        r.raise_for_status()\n",
    "    \n",
    "    except requests.exceptions.HTTPError as errh: #Handles API errors\n",
    "        return \"An Http Error occurred: \" + repr(errh)\n",
    "    except requests.exceptions.ConnectionError as errc:\n",
    "        return \"An Error Connecting to the API occurred: \" + repr(errc)\n",
    "    except requests.exceptions.Timeout as errt:\n",
    "        return \"A Timeout Error occurred: \" + repr(errt)\n",
    "    except requests.exceptions.RequestException as err:\n",
    "        return \"An Unknown Error occurred: \" + repr(err)\n",
    "    \n",
    "    try:\n",
    "        symbol_json = response.json() \n",
    "        print(\" Name Ticker: \" + symbol_json['quoteResponse']['result'][0]['symbol'])\n",
    "        companyname_json = response.json() \n",
    "        print(\" Company Name: \" + companyname_json['quoteResponse']['result'][0][\"longName\"])\n",
    "        stock_json = response.json() \n",
    "        print(\" Current Price: $\" + str(stock_json['quoteResponse']['result'][0][\"regularMarketPrice\"]))\n",
    "        targetmeanprice_json = r.json()\n",
    "        print(\" Target Mean Price: $\" + str(targetmeanprice_json['quoteSummary']['result'][0]['financialData']['targetMeanPrice']['fmt']))\n",
    "        cashonhand_json = r.json()\n",
    "        print(\" Cash On Hand: $\" + str(cashonhand_json['quoteSummary']['result'][0]['financialData']['freeCashflow']['fmt']))\n",
    "        profitmargins_json = r.json()\n",
    "        print(\" Profit Margins: \" + str(profitmargins_json['quoteSummary']['result'][0]['financialData']['profitMargins']['fmt']))\n",
    "        \n",
    "    except IndexError: #Handles an error in which the stock does not exist (user error)\n",
    "        return \"Stock does not exist\""
   ]
  },
  {
   "cell_type": "code",
   "execution_count": 12,
   "id": "e79cc063-0ccb-427c-839b-62b8bdf65bbe",
   "metadata": {},
   "outputs": [
    {
     "name": "stdout",
     "output_type": "stream",
     "text": [
      " Name Ticker: AMZN\n",
      " Company Name: Amazon.com, Inc.\n",
      " Current Price: $93.76\n",
      " Target Mean Price: $133.64\n",
      " Cash On Hand: $7.62M\n",
      " Profit Margins: -0.53%\n"
     ]
    }
   ],
   "source": [
    "symbol = stock\n",
    "apikey=\"6D1NnQnQNQ6JXgG4KFmXR5EfP3wtEqJG3xgAto1X\"\n",
    "url = url = \"https://yfapi.net/v6/finance/quote\"\n",
    "url2 = \"https://yfapi.net/v11/finance/quoteSummary/{}\".format(symbol)\n",
    "querystring = {\"symbols\":stock}\n",
    "headers = {\n",
    "    'x-api-key': apikey\n",
    "    }\n",
    "\n",
    "get_api_stock_data(url,url2)"
   ]
  },
  {
   "cell_type": "code",
   "execution_count": 13,
   "id": "a12ee4af-fc4c-4d94-b38b-68baf131cce0",
   "metadata": {},
   "outputs": [],
   "source": [
    "#Store Data in DataFrame Format AND Handle Errors\n",
    "def get_api_response(url, url2, response_type):\n",
    "    try:\n",
    "        response = requests.get(url, headers=headers, params=querystring)\n",
    "        r = requests.get(url2, headers=headers, params={'modules': 'financialData'})\n",
    "        response.raise_for_status()\n",
    "        r.raise_for_status()\n",
    "    \n",
    "    except requests.exceptions.HTTPError as errh:\n",
    "        return \"An Http Error occurred: \" + repr(errh)\n",
    "    except requests.exceptions.ConnectionError as errc:\n",
    "        return \"An Error Connecting to the API occurred: \" + repr(errc)\n",
    "    except requests.exceptions.Timeout as errt:\n",
    "        return \"A Timeout Error occurred: \" + repr(errt)\n",
    "    except requests.exceptions.RequestException as err:\n",
    "        return \"An Unknown Error occurred: \" + repr(err)\n",
    "    \n",
    "    if response_type == 'dataframe':\n",
    "        #v6 information\n",
    "        dictr = response.json()\n",
    "        stockdf = dictr['quoteResponse']['result']\n",
    "        df = pd.json_normalize(stockdf)\n",
    "        smalldf = df[[\"symbol\", \"longName\", \"regularMarketPrice\"]]\n",
    "        #v11 information\n",
    "        dictr2 = r.json()\n",
    "        stockdf2 = dictr2['quoteSummary']['result'][0]['financialData']\n",
    "        df2 = pd.json_normalize(stockdf2)\n",
    "        smalldf2 = df2[['targetMeanPrice.fmt', 'freeCashflow.fmt', 'profitMargins.fmt']]\n",
    "        #synthesis into one dataframe\n",
    "        dftogether = pd.concat([smalldf, smalldf2], axis=1)\n",
    "        dftogether['Date'] = pd.Timestamp.today().strftime('%m-%d-%Y')\n",
    "        dftogether.columns = dftogether.columns.astype(str)\n",
    "        dftogether = dftogether.set_index('symbol', drop=False).rename_axis(None)\n",
    "        dftogether.columns = ['Symbol', 'CompanyName', 'CurrentPrice','TargetMeanPrice','CashOnHand','ProfitMargins','DateofDataPulled']\n",
    "        result = dftogether\n",
    "    else:\n",
    "        result = \"An unhandled error has occurred!\"\n",
    "        \n",
    "    return result"
   ]
  },
  {
   "cell_type": "code",
   "execution_count": 14,
   "id": "08a9ca2d-7802-4fa9-a72d-7803f2f3d0c4",
   "metadata": {},
   "outputs": [
    {
     "data": {
      "text/html": [
       "<div>\n",
       "<style scoped>\n",
       "    .dataframe tbody tr th:only-of-type {\n",
       "        vertical-align: middle;\n",
       "    }\n",
       "\n",
       "    .dataframe tbody tr th {\n",
       "        vertical-align: top;\n",
       "    }\n",
       "\n",
       "    .dataframe thead th {\n",
       "        text-align: right;\n",
       "    }\n",
       "</style>\n",
       "<table border=\"1\" class=\"dataframe\">\n",
       "  <thead>\n",
       "    <tr style=\"text-align: right;\">\n",
       "      <th></th>\n",
       "      <th>Symbol</th>\n",
       "      <th>CompanyName</th>\n",
       "      <th>CurrentPrice</th>\n",
       "      <th>TargetMeanPrice</th>\n",
       "      <th>CashOnHand</th>\n",
       "      <th>ProfitMargins</th>\n",
       "      <th>DateofDataPulled</th>\n",
       "    </tr>\n",
       "  </thead>\n",
       "  <tbody>\n",
       "    <tr>\n",
       "      <th>AMZN</th>\n",
       "      <td>AMZN</td>\n",
       "      <td>Amazon.com, Inc.</td>\n",
       "      <td>93.76</td>\n",
       "      <td>133.64</td>\n",
       "      <td>7.62M</td>\n",
       "      <td>-0.53%</td>\n",
       "      <td>02-27-2023</td>\n",
       "    </tr>\n",
       "  </tbody>\n",
       "</table>\n",
       "</div>"
      ],
      "text/plain": [
       "     Symbol       CompanyName  CurrentPrice TargetMeanPrice CashOnHand  \\\n",
       "AMZN   AMZN  Amazon.com, Inc.         93.76          133.64      7.62M   \n",
       "\n",
       "     ProfitMargins DateofDataPulled  \n",
       "AMZN        -0.53%       02-27-2023  "
      ]
     },
     "execution_count": 14,
     "metadata": {},
     "output_type": "execute_result"
    }
   ],
   "source": [
    "#DataFrame of Stock Information\n",
    "response_type = 'dataframe' #If this input is changed, the unhandled error will result\n",
    "apikey=\"6D1NnQnQNQ6JXgG4KFmXR5EfP3wtEqJG3xgAto1X\"\n",
    "url = \"https://yfapi.net/v6/finance/quote\"\n",
    "symbol = stock\n",
    "url2 = \"https://yfapi.net/v11/finance/quoteSummary/{}\".format(symbol)\n",
    "querystring = {\"symbols\":stock}\n",
    "headers = {\n",
    "    'x-api-key': apikey\n",
    "    }\n",
    "\n",
    "finaldf = get_api_response(url, url2, response_type)\n",
    "finaldf"
   ]
  },
  {
   "cell_type": "code",
   "execution_count": 15,
   "id": "77d77ab7-5f4a-433c-84bc-5bae13cc1d39",
   "metadata": {},
   "outputs": [
    {
     "name": "stdout",
     "output_type": "stream",
     "text": [
      "[{\"Symbol\":\"AMZN\",\"CompanyName\":\"Amazon.com, Inc.\",\"CurrentPrice\":93.76,\"TargetMeanPrice\":\"133.64\",\"CashOnHand\":\"7.62M\",\"ProfitMargins\":\"-0.53%\",\"DateofDataPulled\":\"02-27-2023\"}]\n"
     ]
    }
   ],
   "source": [
    "#JSON Format of Information (Not Indented, JSON String)\n",
    "result = finaldf.to_json(orient=\"records\")\n",
    "print(result)"
   ]
  },
  {
   "cell_type": "code",
   "execution_count": 16,
   "id": "96f1d655-af8c-481e-9ca8-aa7446103785",
   "metadata": {
    "tags": []
   },
   "outputs": [
    {
     "name": "stdout",
     "output_type": "stream",
     "text": [
      "[\n",
      "    {\n",
      "        \"Symbol\":\"AMZN\",\n",
      "        \"CompanyName\":\"Amazon.com, Inc.\",\n",
      "        \"CurrentPrice\":93.76,\n",
      "        \"TargetMeanPrice\":\"133.64\",\n",
      "        \"CashOnHand\":\"7.62M\",\n",
      "        \"ProfitMargins\":\"-0.53%\",\n",
      "        \"DateofDataPulled\":\"02-27-2023\"\n",
      "    }\n",
      "]\n"
     ]
    }
   ],
   "source": [
    "#JSON Format of Information (Indented)\n",
    "result2 = finaldf.to_json(orient=\"records\", indent=4)\n",
    "print(result2)"
   ]
  },
  {
   "cell_type": "code",
   "execution_count": 17,
   "id": "bdeae930-8294-47c5-80e1-34e8c88e0cce",
   "metadata": {},
   "outputs": [
    {
     "name": "stdout",
     "output_type": "stream",
     "text": [
      "{\n",
      "    \"AMZN\":{\n",
      "        \"Symbol\":\"AMZN\",\n",
      "        \"CompanyName\":\"Amazon.com, Inc.\",\n",
      "        \"CurrentPrice\":93.76,\n",
      "        \"TargetMeanPrice\":\"133.64\",\n",
      "        \"CashOnHand\":\"7.62M\",\n",
      "        \"ProfitMargins\":\"-0.53%\",\n",
      "        \"DateofDataPulled\":\"02-27-2023\"\n",
      "    }\n",
      "}\n"
     ]
    }
   ],
   "source": [
    "#JSON Format of Information (Indented with Index Value)\n",
    "result2 = finaldf.to_json(orient=\"index\", indent=4)\n",
    "print(result2)"
   ]
  },
  {
   "cell_type": "code",
   "execution_count": null,
   "id": "60087f7f-19f8-434f-92bf-e3e511cd8ea9",
   "metadata": {},
   "outputs": [],
   "source": []
  }
 ],
 "metadata": {
  "kernelspec": {
   "display_name": "Python 3 (ipykernel)",
   "language": "python",
   "name": "python3"
  },
  "language_info": {
   "codemirror_mode": {
    "name": "ipython",
    "version": 3
   },
   "file_extension": ".py",
   "mimetype": "text/x-python",
   "name": "python",
   "nbconvert_exporter": "python",
   "pygments_lexer": "ipython3",
   "version": "3.8.13"
  }
 },
 "nbformat": 4,
 "nbformat_minor": 5
}
